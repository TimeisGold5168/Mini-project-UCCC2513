{
 "cells": [
  {
   "cell_type": "code",
   "execution_count": 1,
   "id": "500aaae5",
   "metadata": {},
   "outputs": [],
   "source": [
    "import cv2 as cv\n",
    "import numpy as np\n",
    "import matplotlib.pyplot as plt\n",
    "from utils import *"
   ]
  },
  {
   "cell_type": "markdown",
   "id": "4ae6b343",
   "metadata": {},
   "source": [
    "## Getting the optimal size for resizing"
   ]
  },
  {
   "cell_type": "code",
   "execution_count": 2,
   "id": "f8aef439",
   "metadata": {
    "scrolled": true
   },
   "outputs": [
    {
     "name": "stdout",
     "output_type": "stream",
     "text": [
      "Average size: 152x140\n",
      "Most common size: 94x100\n",
      "Largest size: 491x402\n",
      "Smallest size: 26x28\n",
      "Suggested optimal size for resizing: 120x120\n"
     ]
    }
   ],
   "source": [
    "import os\n",
    "from PIL import Image\n",
    "from collections import defaultdict\n",
    "\n",
    "def analyze_images(directory):\n",
    "    sizes = defaultdict(int)\n",
    "    total_width, total_height = 0, 0\n",
    "    count = 0\n",
    "    largest_size = (0, 0)\n",
    "    smallest_size = None\n",
    "    \n",
    "    for filename in os.listdir(directory):\n",
    "        if filename.lower().endswith(('.png', '.jpg', '.jpeg', '.gif', '.bmp')):\n",
    "            filepath = os.path.join(directory, filename)\n",
    "            with Image.open(filepath) as img:\n",
    "                width, height = img.size\n",
    "                sizes[(width, height)] += 1\n",
    "                total_width += width\n",
    "                total_height += height\n",
    "                count += 1\n",
    "                \n",
    "                # Update largest size\n",
    "                largest_size = max(largest_size, (width, height), key=lambda x: x[0] * x[1])\n",
    "                \n",
    "                # Update smallest size\n",
    "                if smallest_size is None:\n",
    "                    smallest_size = (width, height)\n",
    "                else:\n",
    "                    smallest_size = min(smallest_size, (width, height), key=lambda x: x[0] * x[1])\n",
    "    \n",
    "    if count == 0:\n",
    "        return None, None, None, None, None\n",
    "    \n",
    "    avg_width = total_width // count\n",
    "    avg_height = total_height // count\n",
    "    most_common_size = max(sizes, key=sizes.get)\n",
    "    \n",
    "    return avg_width, avg_height, most_common_size, largest_size, smallest_size\n",
    "\n",
    "def suggest_optimal_size(avg_width, avg_height, most_common_size):\n",
    "    # This is a simple suggestion algorithm. You might want to adjust it based on your specific needs.\n",
    "    suggested_width = (avg_width + most_common_size[0]) // 2\n",
    "    suggested_height = (avg_height + most_common_size[1]) // 2\n",
    "    \n",
    "    # Round to nearest 10\n",
    "    suggested_width = round(suggested_width / 10) * 10\n",
    "    suggested_height = round(suggested_height / 10) * 10\n",
    "    return suggested_width, suggested_height\n",
    "\n",
    "# Replace 'path_to_image_directory' with the actual path to your image directory\n",
    "image_directory = 'C:/Users/zhent/OneDrive - Universiti Tunku Abdul Rahman/Desktop/Y3S1/Mini project/proposal report 1/COding/tsrd-train/'\n",
    "\n",
    "avg_width, avg_height, most_common_size, largest_size, smallest_size = analyze_images(image_directory)\n",
    "\n",
    "if avg_width is None:\n",
    "    print(\"No images found in the specified directory.\")\n",
    "else:\n",
    "    print(f\"Average size: {avg_width}x{avg_height}\")\n",
    "    print(f\"Most common size: {most_common_size[0]}x{most_common_size[1]}\")\n",
    "    print(f\"Largest size: {largest_size[0]}x{largest_size[1]}\")\n",
    "    print(f\"Smallest size: {smallest_size[0]}x{smallest_size[1]}\")\n",
    "    optimal_width, optimal_height = suggest_optimal_size(avg_width, avg_height, most_common_size)\n",
    "    print(f\"Suggested optimal size for resizing: {optimal_width}x{optimal_height}\")"
   ]
  }
 ],
 "metadata": {
  "kernelspec": {
   "display_name": "Python 3 (ipykernel)",
   "language": "python",
   "name": "python3"
  },
  "language_info": {
   "codemirror_mode": {
    "name": "ipython",
    "version": 3
   },
   "file_extension": ".py",
   "mimetype": "text/x-python",
   "name": "python",
   "nbconvert_exporter": "python",
   "pygments_lexer": "ipython3",
   "version": "3.10.6"
  }
 },
 "nbformat": 4,
 "nbformat_minor": 5
}
