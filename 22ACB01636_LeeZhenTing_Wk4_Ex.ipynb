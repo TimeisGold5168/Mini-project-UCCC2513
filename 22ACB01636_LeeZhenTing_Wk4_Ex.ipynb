{
 "cells": [
  {
   "cell_type": "code",
   "execution_count": 4,
   "id": "4d8d35bb-9a2d-4f93-a360-ce7df4be0d1c",
   "metadata": {},
   "outputs": [
    {
     "data": {
      "text/plain": [
       "True"
      ]
     },
     "execution_count": 4,
     "metadata": {},
     "output_type": "execute_result"
    }
   ],
   "source": [
    "import sys\n",
    "# Python 3.8 is required\n",
    "assert sys.version_info >= (3, 8)\n",
    "\n",
    "import cv2 as cv\n",
    "import numpy as np\n",
    "\n",
    "\n",
    "# Make sure that optimization is enabled\n",
    "if not cv.useOptimized():\n",
    "    cv.setUseOptimized(True)\n",
    "    \n",
    "cv.useOptimized()"
   ]
  },
  {
   "cell_type": "markdown",
   "id": "83cec175-a3d6-4ef0-803e-cf536e4e5db1",
   "metadata": {},
   "source": [
    "### Exercise\n",
    "1. Display the blue, green and red channel of the **lena** image simultaneously. Comment on the images displayed.\n",
    "2. Display the following images which originates from the file \"images/dog.jfif\".\n",
    "\n",
    "![exercise_fig](img_embed/diff_color_channels.jpg \"color dogs\")"
   ]
  },
  {
   "cell_type": "code",
   "execution_count": 6,
   "id": "27676ece-203c-4bd5-9ebd-3c701f6564d1",
   "metadata": {},
   "outputs": [],
   "source": [
    "#exercise 1\n",
    "img = cv.imread('images/lena.jfif')\n",
    "\n",
    "\n",
    "blue_channel, green_channel, red_channel = cv.split(img)\n",
    "\n",
    "\n",
    "cv.imshow('Blue Channel', blue_channel)\n",
    "cv.imshow('Green Channel', green_channel)\n",
    "cv.imshow('Red Channel', red_channel)\n",
    "\n",
    "\n",
    "cv.waitKey(0)\n",
    "cv.destroyAllWindows()"
   ]
  },
  {
   "cell_type": "code",
   "execution_count": 9,
   "id": "918bb369-f6a9-4ddb-b77a-ece27f905feb",
   "metadata": {},
   "outputs": [],
   "source": [
    "#exercise 2\n",
    "blue_channel, green_channel, red_channel = cv.split(img)\n",
    "\n",
    "blue_img = np.zeros_like(img)\n",
    "green_img = np.zeros_like(img)\n",
    "red_img = np.zeros_like(img)\n",
    "\n",
    "blue_img[:, :, 0] = blue_channel\n",
    "green_img[:, :, 1] = green_channel\n",
    "red_img[:, :, 2] = red_channel\n",
    "\n",
    "cv.imshow('Blue Image', blue_img)\n",
    "cv.imshow('Green Image', green_img)\n",
    "cv.imshow('Red Image', red_img)\n",
    "\n",
    "cv.waitKey(0)\n",
    "cv.destroyAllWindows()"
   ]
  },
  {
   "cell_type": "markdown",
   "id": "d810298a-4d62-4bcd-9b18-e18d1862103f",
   "metadata": {},
   "source": [
    "## Weekly activity\n",
    "1. Create a **random noise color and grayscale** image. You can set your own width and height, but keep the total number of pixels of both images identical.\n",
    "\n",
    "\n"
   ]
  },
  {
   "cell_type": "code",
   "execution_count": 14,
   "id": "b752cff2-21c0-4049-adea-d13c497ebd9e",
   "metadata": {},
   "outputs": [],
   "source": [
    "width, height = 240,240 \n",
    "\n",
    "color_noise = np.random.randint(0, 256, (height, width, 3), dtype=np.uint8)\n",
    "\n",
    "lena_image = cv.imread('images/lena.jfif')\n",
    "grayscale_image = cv.cvtColor(lena_image, cv.COLOR_BGR2GRAY)\n",
    "\n",
    "grayscale_image = cv.resize(grayscale_image, (width, height))\n",
    "\n",
    "grayscale_image_bgr = cv.cvtColor(grayscale_image, cv.COLOR_GRAY2BGR)\n",
    "\n",
    "cv.imshow('Random Noise Color Image', color_noise)\n",
    "cv.imshow('Grayscale Lena Image', grayscale_image_bgr)\n",
    "\n",
    "cv.waitKey(0)\n",
    "cv.destroyAllWindows()"
   ]
  },
  {
   "cell_type": "markdown",
   "id": "75a7b163-5649-4fa1-8afe-f0ebfb83ca94",
   "metadata": {},
   "source": [
    "2. Convert the code chunk found under section <a href=\"#Section1\">Divide an image into smaller patches using cropping</a> into a function with the following signature:\n",
    "```python\n",
    "crop_grid(img, num_horizontal_grid, num_vertical_grid, line_color)\n",
    " # img is the source image\n",
    " # num_horizontal_grid and num_vertical_grid are the number of patches along x and y axes.\n",
    " # line_color is the color of the grid line.\n",
    " # The output of the function should be image with grids\n",
    "```"
   ]
  },
  {
   "cell_type": "code",
   "execution_count": 15,
   "id": "09c8db0a-6c7a-4fca-ac58-367846ee4448",
   "metadata": {},
   "outputs": [],
   "source": [
    "def crop_grid(img, num_horizontal_grid, num_vertical_grid, line_color):\n",
    "    \"\"\"\n",
    "    Divide an image into smaller patches by drawing grid lines.\n",
    "    \n",
    "    Parameters:\n",
    "    img: np.array\n",
    "        The source image.\n",
    "    num_horizontal_grid: int\n",
    "        The number of patches along the x-axis.\n",
    "    num_vertical_grid: int\n",
    "        The number of patches along the y-axis.\n",
    "    line_color: tuple\n",
    "        The color of the grid lines in BGR format (e.g., (255, 0, 0) for blue).\n",
    "    \n",
    "    Returns:\n",
    "    np.array\n",
    "        The image with grid lines.\n",
    "    \"\"\"\n",
    "\n",
    "    height, width, _ = img.shape\n",
    "\n",
    "    cell_width = width // num_horizontal_grid\n",
    "    cell_height = height // num_vertical_grid\n",
    "\n",
    "    img_with_grid = img.copy()\n",
    "\n",
    "    for i in range(1, num_horizontal_grid):\n",
    "        x = i * cell_width\n",
    "        cv.line(img_with_grid, (x, 0), (x, height), line_color, 1)\n",
    "\n",
    "    for j in range(1, num_vertical_grid):\n",
    "        y = j * cell_height\n",
    "        cv.line(img_with_grid, (0, y), (width, y), line_color, 1)\n",
    "\n",
    "    return img_with_grid\n",
    "\n",
    "img = cv.imread('images/lena.jfif')\n",
    "\n",
    "num_horizontal_grid = 8\n",
    "num_vertical_grid = 8\n",
    "line_color = (255, 0, 0)  # Blue\n",
    "\n",
    "img_with_grid = crop_grid(img, num_horizontal_grid, num_vertical_grid, line_color)\n",
    "\n",
    "cv.imshow('Image with Grid', img_with_grid)\n",
    "\n",
    "cv.waitKey(0)\n",
    "cv.destroyAllWindows()"
   ]
  },
  {
   "cell_type": "markdown",
   "id": "0ae9b40d-6191-401c-b031-e50583babafa",
   "metadata": {},
   "source": [
    "3. How would you *change the brightness* of a **color image**? Suggest **two ways** to perform the image processing operations. Implement your methods by providing the example codes. You are free to choose any image."
   ]
  },
  {
   "cell_type": "code",
   "execution_count": 18,
   "id": "130c7006-9607-41e8-b7c0-b76aa2d8c6b3",
   "metadata": {},
   "outputs": [],
   "source": [
    "#first method\n",
    "def point_op(img, alpha, beta):\n",
    "    \"\"\"Point operator function\n",
    "    Argument:\n",
    "    ---\n",
    "    img: input image\n",
    "    alpha: coefficient\n",
    "    beta: bias\n",
    "    \n",
    "    Returns:\n",
    "    ---\n",
    "    Unsigned 8-bit image array\"\"\"\n",
    "    img = img.astype(np.float32)\n",
    "    res = alpha * img + beta\n",
    "    # Clip the pixel values \n",
    "    res = np.clip(res, 0, 255)\n",
    "    return np.uint8(res)\n",
    "\n",
    "# Load the Lena image in grayscale\n",
    "lena_gray = cv.imread('images/lena.jfif', 0)\n",
    "\n",
    "# Apply the point operator function\n",
    "alpha = 2.0  # Coefficient\n",
    "beta = 0  # Bias\n",
    "transform = point_op(lena_gray, alpha, beta)\n",
    "\n",
    "# Display the images using OpenCV\n",
    "cv.imshow('Grayscale Lena', lena_gray)\n",
    "cv.imshow('Transformed Lena', transform)\n",
    "\n",
    "# Wait until any key is pressed and then close all windows\n",
    "cv.waitKey(0)\n",
    "cv.destroyAllWindows()\n",
    "\n",
    "#second method\n",
    "def adjust_brightness_hsv(image, value):\n",
    "    \"\"\"\n",
    "    Adjust the brightness of an image by modifying the Value channel in HSV color space.\n",
    "    \n",
    "    Parameters:\n",
    "    image: np.array\n",
    "        The input image.\n",
    "    value: int\n",
    "        The value to add to the Value channel. Can be positive or negative.\n",
    "        \n",
    "    Returns:\n",
    "    np.array\n",
    "        The brightness-adjusted image.\n",
    "    \"\"\"\n",
    "    hsv = cv.cvtColor(image, cv.COLOR_BGR2HSV)\n",
    "    \n",
    "    hsv[:, :, 2] = np.clip(hsv[:, :, 2] + value, 0, 255)\n",
    " \n",
    "    brightened_image = cv.cvtColor(hsv, cv.COLOR_HSV2BGR)\n",
    "    \n",
    "    return brightened_image\n",
    "\n",
    "image = cv.imread('images/lena.jfif')\n",
    "\n",
    "brighter_image_hsv = adjust_brightness_hsv(image, 50)  # Increase brightness\n",
    "darker_image_hsv = adjust_brightness_hsv(image, -50)  # Decrease brightness\n",
    "\n",
    "cv.imshow('Brighter Image (HSV)', brighter_image_hsv)\n",
    "cv.imshow('Darker Image (HSV)', darker_image_hsv)\n",
    "\n",
    "cv.waitKey(0)\n",
    "cv.destroyAllWindows()"
   ]
  },
  {
   "cell_type": "markdown",
   "id": "862a3b77-66bc-49bb-bd61-674113e574d6",
   "metadata": {},
   "source": [
    "4. Provide at least one common use cases for the following color spaces:\n",
    "    - RGB\n",
    "      *Display Devices: RGB is essential for displaying images on screens (monitors, TVs, projectors) where each pixel's color is defined by mixing red, green, and blue intensities.\n",
    "    - HSV\n",
    "      *Color Selection: HSV is preferred for tasks like color detection and segmentation because it separates color information (hue) from intensity (value).\n",
    "    - CIELAB\n",
    "      *Color Reproduction: CIELAB is used in industries like printing and textiles for accurate color reproduction and matching across different devices and materials."
   ]
  }
 ],
 "metadata": {
  "kernelspec": {
   "display_name": "Python 3 (ipykernel)",
   "language": "python",
   "name": "python3"
  },
  "language_info": {
   "codemirror_mode": {
    "name": "ipython",
    "version": 3
   },
   "file_extension": ".py",
   "mimetype": "text/x-python",
   "name": "python",
   "nbconvert_exporter": "python",
   "pygments_lexer": "ipython3",
   "version": "3.10.6"
  }
 },
 "nbformat": 4,
 "nbformat_minor": 5
}
