{
 "cells": [
  {
   "cell_type": "markdown",
   "id": "721cb5f5-b6bb-425f-af30-62bfd6dddaf5",
   "metadata": {},
   "source": [
    "## Exercises\n",
    "1. Find the range of values for each of the following data types:\n",
    "    * `uint8`\n",
    "    * `int8`\n",
    "    * `uint32`\n",
    "    * `int32`"
   ]
  },
  {
   "cell_type": "markdown",
   "id": "100cc2ff-ca45-4144-ba1b-12840086788c",
   "metadata": {},
   "source": [
    "## Q1 ANs"
   ]
  },
  {
   "cell_type": "code",
   "execution_count": 8,
   "id": "9e349517-a61d-47b0-9d8e-2f44ef85dbfe",
   "metadata": {},
   "outputs": [
    {
     "name": "stdout",
     "output_type": "stream",
     "text": [
      " 1. The range of values for uint8 is 0 to 255\n",
      " 2. The range of values for uint8 is -128 to 127\n",
      " 3. The range of values for uint8 is 0 to 4294967295\n",
      " 4. The range of values for uint8 is -2147483648 to 2147483647\n"
     ]
    }
   ],
   "source": [
    "import numpy as np\n",
    "\n",
    "# Define the range for uint8\n",
    "uint8_min = np.iinfo(np.uint8).min\n",
    "uint8_max = np.iinfo(np.uint8).max\n",
    "\n",
    "# Define the range for int8\n",
    "int8_min = np.iinfo(np.int8).min\n",
    "int8_max = np.iinfo(np.int8).max\n",
    "\n",
    "# Define the range for uint32\n",
    "uint32_min = np.iinfo(np.uint32).min\n",
    "uint32_max = np.iinfo(np.uint32).max\n",
    "\n",
    "# Define the range for int32\n",
    "int32_min = np.iinfo(np.int32).min\n",
    "int32_max = np.iinfo(np.int32).max\n",
    "\n",
    "print(f\" 1. The range of values for uint8 is {uint8_min} to {uint8_max}\")\n",
    "print(f\" 2. The range of values for uint8 is {int8_min} to {int8_max}\")\n",
    "print(f\" 3. The range of values for uint8 is {uint32_min} to {uint32_max}\")\n",
    "print(f\" 4. The range of values for uint8 is {int32_min} to {int32_max}\")\n",
    "\n"
   ]
  },
  {
   "cell_type": "markdown",
   "id": "7c767cf5-a1d5-4031-b1ea-c6a83ece0bd5",
   "metadata": {},
   "source": [
    "## 2. Try to write a simple custom function to determine whether a given integer is odd or even number.\n",
    "\n",
    "# Q2 ans"
   ]
  },
  {
   "cell_type": "code",
   "execution_count": 12,
   "id": "3aa2f025-40c4-4893-9f5f-0232076455a3",
   "metadata": {},
   "outputs": [],
   "source": [
    "def odd_even(x):\n",
    "    \"\"\"function to check whether the integer is odd or even\n",
    "    Input\n",
    "    ---\n",
    "    x: must be integer\n",
    "    \n",
    "    Return\n",
    "    ---\n",
    "    a statement of whether the integer is odd or even\"\"\"\n",
    "    if isinstance(x,int): #this fuctino to check whether the input is intger or not\n",
    "        if (x % 2 == 0) and (x != 0):\n",
    "            print(f\"{x} is even\")\n",
    "        elif x % 2 ==1 :\n",
    "            print(f\"{x} is odd\")\n",
    "        elif x == 0 :\n",
    "            print(f\"{x} is neither odd nor even\")\n",
    "\n",
    "    else:\n",
    "        print(f\"{x} is not an integer\")\n"
   ]
  },
  {
   "cell_type": "code",
   "execution_count": 13,
   "id": "8000f591-b2da-4d7d-ae07-7b428ed5926e",
   "metadata": {},
   "outputs": [
    {
     "name": "stdout",
     "output_type": "stream",
     "text": [
      "2 is even\n"
     ]
    }
   ],
   "source": [
    "odd_even(2)"
   ]
  },
  {
   "cell_type": "markdown",
   "id": "9cff5197-6260-45e3-8a13-b379ce07ecae",
   "metadata": {},
   "source": [
    "## 3. Write a simple example code to show that Numpy is more efficient in numerical computation of large arrays of data than equivalent Python list.\n",
    "\n",
    "### Q3 ANS"
   ]
  },
  {
   "cell_type": "code",
   "execution_count": 24,
   "id": "e844578c-a15b-46ef-a16d-12ea1fa139aa",
   "metadata": {},
   "outputs": [
    {
     "name": "stdout",
     "output_type": "stream",
     "text": [
      "The computation time for numpy array\n",
      "CPU times: total: 15.6 ms\n",
      "Wall time: 17 ms\n",
      "\n",
      "The computation time for python list\n",
      "CPU times: total: 562 ms\n",
      "Wall time: 559 ms\n"
     ]
    }
   ],
   "source": [
    "import numpy as np\n",
    "\n",
    "my_arr = np.arange(1000000)\n",
    "my_list = list(range(1000000))\n",
    "\n",
    "##Let's multiply each sequence by 2:\n",
    "print(\"The computation time for numpy array\")\n",
    "%time for _ in range(10): my_arr2 = my_arr * 2\n",
    "\n",
    "print(\"\\nThe computation time for python list\")\n",
    "%time for _ in range(10): my_list2 = [x * 2 for x in my_list]\n"
   ]
  },
  {
   "cell_type": "markdown",
   "id": "b351d6ac-6044-4a2e-804e-b0084bf2b6cf",
   "metadata": {},
   "source": [
    "### 4. Run the following codes:\n",
    "```python\n",
    "    # create a 1D array\n",
    "    my_arr = np.arange(10)\n",
    "    print(\"Initial my_arr: \", my_arr)\n",
    "    arr_slice = my_arr\n",
    "    print(\"Initial arr_slice: \", arr_slice)\n",
    "\n",
    "    # change the first element of arr_slice\n",
    "    arr_slice[0] = 55\n",
    "\n",
    "    print(\"my_arr: \", my_arr)\n",
    "    print(\"arr_slice: \", arr_slice)\n",
    "```\n",
    "\n",
    "What do you notice? Propose a way to reassign `arr_slice` with new value **without modifying** `my_arr`."
   ]
  },
  {
   "cell_type": "code",
   "execution_count": 26,
   "id": "71e048d2-d5d3-421b-857a-4c2a5c97536a",
   "metadata": {
    "scrolled": true
   },
   "outputs": [
    {
     "name": "stdout",
     "output_type": "stream",
     "text": [
      "Initial my_arr:  [0 1 2 3 4 5 6 7 8 9]\n",
      "Initial arr_slice:  [0 1 2 3 4 5 6 7 8 9]\n",
      "my_arr:  [55  1  2  3  4  5  6  7  8  9]\n",
      "arr_slice:  [55  1  2  3  4  5  6  7  8  9]\n"
     ]
    }
   ],
   "source": [
    " # create a 1D array\n",
    "my_arr = np.arange(10)\n",
    "print(\"Initial my_arr: \", my_arr)\n",
    "arr_slice = my_arr\n",
    "print(\"Initial arr_slice: \", arr_slice)\n",
    "\n",
    "# change the first element of arr_slice\n",
    "arr_slice[0] = 55\n",
    "print(\"my_arr: \", my_arr)\n",
    "print(\"arr_slice: \", arr_slice)"
   ]
  },
  {
   "cell_type": "markdown",
   "id": "a548d600-2271-4256-acf4-b494e6defd9c",
   "metadata": {},
   "source": [
    "The my_arr first element value also changed.\n",
    "\n",
    "### Q4 ANS"
   ]
  },
  {
   "cell_type": "code",
   "execution_count": 27,
   "id": "29f4ccfa-1152-4892-b173-7db8860a0de6",
   "metadata": {},
   "outputs": [
    {
     "name": "stdout",
     "output_type": "stream",
     "text": [
      "Initial my_arr:  [0 1 2 3 4 5 6 7 8 9]\n",
      "Initial arr_slice:  [0 1 2 3 4 5 6 7 8 9]\n",
      "my_arr:  [0 1 2 3 4 5 6 7 8 9]\n",
      "arr_slice:  [55  1  2  3  4  5  6  7  8  9]\n"
     ]
    }
   ],
   "source": [
    "#the proposed method is using numpy.copy(). This is useful when we want to make changes to an array without modifying the original array\n",
    "\n",
    "# create a 1D array\n",
    "my_arr = np.arange(10)\n",
    "print(\"Initial my_arr: \", my_arr)\n",
    "arr_slice = my_arr.copy()\n",
    "print(\"Initial arr_slice: \", arr_slice)\n",
    "\n",
    "# change the first element of arr_slice\n",
    "arr_slice[0] = 55\n",
    "print(\"my_arr: \", my_arr)\n",
    "print(\"arr_slice: \", arr_slice)"
   ]
  },
  {
   "cell_type": "markdown",
   "id": "826caf10-bae9-4edf-ae14-e0d228b88439",
   "metadata": {},
   "source": [
    "## 5. Create an image as shown as the following with the help of Numpy and matplotlib modules. You can arbitrarily set the dimension of the image and white circular spot at the middle.\n",
    "\n",
    "### Q5 ANS"
   ]
  },
  {
   "cell_type": "code",
   "execution_count": 45,
   "id": "8bd2c7a6-bcae-4fa1-a239-a7b1bef0598f",
   "metadata": {},
   "outputs": [
    {
     "data": {
      "image/png": "[encoded data removed]",
      "text/plain": [
       "<Figure size 640x480 with 1 Axes>"
      ]
     },
     "metadata": {},
     "output_type": "display_data"
    }
   ],
   "source": [
    "import numpy as np\n",
    "import matplotlib.pyplot as plt\n",
    "\n",
    "def draw_filled_circle(radius, dim=None):\n",
    "    if dim is None:\n",
    "        dim = (radius * 10, radius * 10)\n",
    "    \n",
    "    # Create a zero matrix of the specified dimensions\n",
    "    circle = np.zeros(dim)\n",
    "    \n",
    "    # Create coordinate grids x and y\n",
    "    x, y = np.meshgrid(np.arange(dim[0]), np.arange(dim[1]))\n",
    "    \n",
    "    # Calculate the distance from the center\n",
    "    distance = np.sqrt((x - dim[0] / 2)**2 + (y - dim[1] / 2)**2)\n",
    "    \n",
    "    # Create a mask where the distance is less than or equal to the radius\n",
    "    mask = distance <= radius\n",
    "    \n",
    "    # Set the circle array values to 1 where the mask is True\n",
    "    circle[mask] = 1\n",
    "    \n",
    "    return circle\n",
    "\n",
    "# Example usage\n",
    "radius = 20\n",
    "circle = draw_filled_circle(radius)\n",
    "\n",
    "# Display the circle\n",
    "plt.imshow(circle, cmap='gray')\n",
    "plt.title(\"Generated Filled Circle\")\n",
    "plt.show()"
   ]
  }
 ],
 "metadata": {
  "kernelspec": {
   "display_name": "Python 3 (ipykernel)",
   "language": "python",
   "name": "python3"
  },
  "language_info": {
   "codemirror_mode": {
    "name": "ipython",
    "version": 3
   },
   "file_extension": ".py",
   "mimetype": "text/x-python",
   "name": "python",
   "nbconvert_exporter": "python",
   "pygments_lexer": "ipython3",
   "version": "3.10.6"
  }
 },
 "nbformat": 4,
 "nbformat_minor": 5
}
